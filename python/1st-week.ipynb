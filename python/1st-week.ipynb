{
 "cells": [
  {
   "cell_type": "code",
   "execution_count": 5,
   "metadata": {},
   "outputs": [
    {
     "data": {
      "text/plain": [
       "'_ (valid)\\n1w (invalid)\\n12 (invalid)\\nwe (valid)\\nw$e (invalid)'"
      ]
     },
     "execution_count": 5,
     "metadata": {},
     "output_type": "execute_result"
    }
   ],
   "source": [
    "# The first letter of a variable name must be an alphabet or an underscore character\n",
    "# The first letter of a variable name cannot be a number\n",
    "# We can use only alphanumeric and underscore characters in a variable name\n",
    "\n",
    "\"\"\"_ (valid)\n",
    "1w (invalid)\n",
    "12 (invalid)\n",
    "we (valid)\n",
    "w$e (invalid)\"\"\""
   ]
  },
  {
   "cell_type": "code",
   "execution_count": 6,
   "metadata": {},
   "outputs": [
    {
     "name": "stdout",
     "output_type": "stream",
     "text": [
      "Python Programming 2\n"
     ]
    }
   ],
   "source": [
    "# This is a print statement\n",
    "\n",
    "# Comments are just needed to explain a line of code\n",
    "# Comments are not executed in python\n",
    "print(\"Python Programming 2\")"
   ]
  },
  {
   "cell_type": "code",
   "execution_count": 7,
   "metadata": {},
   "outputs": [
    {
     "name": "stdout",
     "output_type": "stream",
     "text": [
      "<class 'int'>\n"
     ]
    }
   ],
   "source": [
    "# Types of values in Python\n",
    "\n",
    "# 12 (Integer)\n",
    "# 1.1 (Float)\n",
    "# 13 (Integer)\n",
    "# \"Python Programming\" (A String)\n",
    "# True (Boolean)\n",
    "# False (Boolean)\n",
    "# 2 + 3i (A complex number)\n",
    "\n",
    "# type is a function is python using which we can find what type of value a variable is\n",
    "\n",
    "name = 12\n",
    "print(type(name))"
   ]
  },
  {
   "cell_type": "code",
   "execution_count": 8,
   "metadata": {},
   "outputs": [
    {
     "name": "stdout",
     "output_type": "stream",
     "text": [
      "<class 'float'>\n"
     ]
    }
   ],
   "source": [
    "name = 1.1\n",
    "print(type(name))"
   ]
  },
  {
   "cell_type": "code",
   "execution_count": 9,
   "metadata": {},
   "outputs": [
    {
     "name": "stdout",
     "output_type": "stream",
     "text": [
      "<class 'str'>\n"
     ]
    }
   ],
   "source": [
    "name = \"Python is a good language\"\n",
    "print(type(name))"
   ]
  },
  {
   "cell_type": "code",
   "execution_count": 10,
   "metadata": {},
   "outputs": [
    {
     "name": "stdout",
     "output_type": "stream",
     "text": [
      "<class 'bool'>\n"
     ]
    }
   ],
   "source": [
    "name = True\n",
    "print(type(name))\n",
    "\n",
    "# Boolean is a data type in all languages"
   ]
  },
  {
   "cell_type": "code",
   "execution_count": 11,
   "metadata": {},
   "outputs": [
    {
     "name": "stdout",
     "output_type": "stream",
     "text": [
      "<class 'complex'>\n"
     ]
    }
   ],
   "source": [
    "name = complex(2, 3)\n",
    "print(type(name))"
   ]
  },
  {
   "cell_type": "code",
   "execution_count": 12,
   "metadata": {},
   "outputs": [
    {
     "name": "stdout",
     "output_type": "stream",
     "text": [
      "Hello World\n"
     ]
    }
   ],
   "source": [
    "# Single line comment in Python\n",
    "# There are other types of values also like list, tuple, dictionary\n",
    "# But we will not learn them now\n",
    "\n",
    "\"\"\"\n",
    "Multiline comment in Python\n",
    "Content 1\n",
    "\n",
    "Content 2\n",
    "\n",
    "Content 3\n",
    "\n",
    "print(\"Hello World\")\n",
    "\n",
    "Whatever you write will not be executed\n",
    "\"\"\"\n",
    "\n",
    "print(\"Hello World\")"
   ]
  },
  {
   "cell_type": "code",
   "execution_count": 13,
   "metadata": {},
   "outputs": [
    {
     "name": "stdout",
     "output_type": "stream",
     "text": [
      "12\n"
     ]
    }
   ],
   "source": [
    "# Variable names\n",
    "\n",
    "# Reserved words in python = Which are used by Python internally\n",
    "\n",
    "# while for if else elif float int str ....\n",
    "# For (Not a reserved word)\n",
    "# foR is not a reserved word\n",
    "# for (This is a reserved word)\n",
    "# Reserve words are also case-sensitive\n",
    "\n",
    "For = 12\n",
    "\n",
    "print(For)"
   ]
  },
  {
   "cell_type": "code",
   "execution_count": 14,
   "metadata": {},
   "outputs": [
    {
     "name": "stdout",
     "output_type": "stream",
     "text": [
      "Hello World\n",
      "gfx\n"
     ]
    }
   ],
   "source": [
    "# input() method in Python\n",
    "\n",
    "var = input()\n",
    "\n",
    "print(\"Hello World\")\n",
    "print(var)"
   ]
  },
  {
   "cell_type": "code",
   "execution_count": 15,
   "metadata": {},
   "outputs": [
    {
     "name": "stdout",
     "output_type": "stream",
     "text": [
      "Hello World Python Programming Next word 12 34.5\n"
     ]
    }
   ],
   "source": [
    "# A variation of print statement\n",
    "print(\"Hello World\", \"Python Programming\", \"Next word\", 12, 34.5)"
   ]
  },
  {
   "cell_type": "code",
   "execution_count": 16,
   "metadata": {},
   "outputs": [
    {
     "name": "stdout",
     "output_type": "stream",
     "text": [
      "Type of name:  <class 'str'>\n",
      "Type of secondName:  <class 'int'>\n",
      "floatName:  12.0 <class 'float'>\n"
     ]
    }
   ],
   "source": [
    "# A special concept of Type Casting\n",
    "# Type Conversion\n",
    "\n",
    "# Can we convert name to an integer?\n",
    "name = \"12\"\n",
    "secondName = int(name)\n",
    "floatName = float(name)\n",
    "\n",
    "\n",
    "print(\"Type of name: \", type(name))\n",
    "print(\"Type of secondName: \",type(secondName))\n",
    "print(\"floatName: \", floatName, type(floatName))"
   ]
  },
  {
   "cell_type": "code",
   "execution_count": 17,
   "metadata": {},
   "outputs": [
    {
     "name": "stdout",
     "output_type": "stream",
     "text": [
      "<class 'int'>\n",
      "<class 'str'>\n"
     ]
    }
   ],
   "source": [
    "# Integer to string conversion\n",
    "\n",
    "name = 12\n",
    "var = str (name)\n",
    "\n",
    "print(type(name))\n",
    "print(type(var))"
   ]
  },
  {
   "cell_type": "code",
   "execution_count": 18,
   "metadata": {},
   "outputs": [
    {
     "name": "stdout",
     "output_type": "stream",
     "text": [
      "Type of var:  <class 'int'>\n"
     ]
    }
   ],
   "source": [
    "name = \"12\"\n",
    "var = int(name)\n",
    "\n",
    "print(\"Type of var: \", type(var))"
   ]
  },
  {
   "cell_type": "code",
   "execution_count": 19,
   "metadata": {},
   "outputs": [
    {
     "name": "stdout",
     "output_type": "stream",
     "text": [
      "Type of var:  <class 'str'>\n"
     ]
    }
   ],
   "source": [
    "var = input()\n",
    "\n",
    "# User has given this input: 12.3\n",
    "\n",
    "# var = 12.3 (Wrong)\n",
    "\n",
    "var = \"12.3\"\n",
    "\n",
    "print(\"Type of var: \", type(var))"
   ]
  },
  {
   "cell_type": "code",
   "execution_count": 20,
   "metadata": {},
   "outputs": [
    {
     "name": "stdout",
     "output_type": "stream",
     "text": [
      "Type of var:  <class 'str'>\n"
     ]
    }
   ],
   "source": [
    "var = input()\n",
    "\n",
    "# var = for (Wrong)\n",
    "var = \"for\"\n",
    "\n",
    "print(\"Type of var: \", type(var))"
   ]
  },
  {
   "cell_type": "code",
   "execution_count": 21,
   "metadata": {},
   "outputs": [
    {
     "name": "stdout",
     "output_type": "stream",
     "text": [
      "Type of var:  <class 'str'>\n"
     ]
    }
   ],
   "source": [
    "var = input()\n",
    "\n",
    "# var = True (Wrong)\n",
    "var = \"True\"\n",
    "\n",
    "print(\"Type of var: \", type(var))"
   ]
  },
  {
   "cell_type": "code",
   "execution_count": 22,
   "metadata": {},
   "outputs": [
    {
     "name": "stdout",
     "output_type": "stream",
     "text": [
      "43\n"
     ]
    }
   ],
   "source": [
    "# Mathematical expressions in Python\n",
    "\n",
    "# Precedence and Associativity\n",
    "\n",
    "# 3 + 4 * 10 = 43\n",
    "# * is done before +\n",
    "\n",
    "var = 3 + 4 * 10\n",
    "print(var)"
   ]
  },
  {
   "cell_type": "code",
   "execution_count": 23,
   "metadata": {},
   "outputs": [
    {
     "name": "stdout",
     "output_type": "stream",
     "text": [
      "3\n"
     ]
    }
   ],
   "source": [
    "# Modulus operator\n",
    "\n",
    "var = -2 % 5\n",
    "print(var)"
   ]
  },
  {
   "cell_type": "code",
   "execution_count": 24,
   "metadata": {},
   "outputs": [
    {
     "name": "stdout",
     "output_type": "stream",
     "text": [
      "-3\n"
     ]
    }
   ],
   "source": [
    "var = 2 % -5\n",
    "print(var)"
   ]
  },
  {
   "cell_type": "code",
   "execution_count": 25,
   "metadata": {},
   "outputs": [
    {
     "name": "stdout",
     "output_type": "stream",
     "text": [
      "-1\n"
     ]
    }
   ],
   "source": [
    "var = 4 % -5\n",
    "print(var)"
   ]
  },
  {
   "cell_type": "code",
   "execution_count": 26,
   "metadata": {},
   "outputs": [
    {
     "name": "stdout",
     "output_type": "stream",
     "text": [
      "18 4\n"
     ]
    }
   ],
   "source": [
    "# Bitwise operators\n",
    "\n",
    "# The binary representation of decimal numbers\n",
    "\n",
    "# 5 is in decimal \n",
    "# 5 in binary = 101\n",
    "\n",
    "# How we convert decimal numbers to binary and binary to decimal\n",
    "\n",
    "# 9: 1001\n",
    "\n",
    "# &, |, ^, <<, >>\n",
    "\n",
    "# & operation\n",
    "\n",
    "# +, -, *, /\n",
    "\n",
    "print(9 << 1, 9 >> 1)"
   ]
  },
  {
   "cell_type": "code",
   "execution_count": 27,
   "metadata": {},
   "outputs": [
    {
     "name": "stdout",
     "output_type": "stream",
     "text": [
      "64\n"
     ]
    }
   ],
   "source": [
    "print(1011 & 1100)"
   ]
  },
  {
   "cell_type": "code",
   "execution_count": null,
   "metadata": {},
   "outputs": [],
   "source": [
    "\"\"\"\n",
    "Discussed Till Now\n",
    "\n",
    "Naming Convention\n",
    "Types of Values\n",
    "input() method\n",
    "Type Conversion\n",
    "Comments in Python\n",
    "Mathematical expressions\n",
    "Binary operators (&, |, ^, <<, >>) and modulus operator\n",
    "Logical Operators\n",
    "\n",
    "(and) -> English's and\n",
    "\n",
    "There are three logical operators:\n",
    "\n",
    "and\n",
    "or\n",
    "not\n",
    "Lets say A and B are two comparisions. Then A and B will be true if and only if:\n",
    "\n",
    "A (and) B both are true\n",
    "A or B will be true:\n",
    "\n",
    "At least any one of them is true\n",
    "!A will be true:\n",
    "\n",
    "If A is false\n",
    "Conditional Statements\n",
    "\n",
    "If Statement\n",
    "\n",
    "Syntax:\n",
    "\"\"\""
   ]
  },
  {
   "cell_type": "code",
   "execution_count": null,
   "metadata": {},
   "outputs": [],
   "source": []
  }
 ],
 "metadata": {
  "kernelspec": {
   "display_name": "Python 3.10.7 64-bit",
   "language": "python",
   "name": "python3"
  },
  "language_info": {
   "codemirror_mode": {
    "name": "ipython",
    "version": 3
   },
   "file_extension": ".py",
   "mimetype": "text/x-python",
   "name": "python",
   "nbconvert_exporter": "python",
   "pygments_lexer": "ipython3",
   "version": "3.10.7"
  },
  "orig_nbformat": 4,
  "vscode": {
   "interpreter": {
    "hash": "2fafaa0203ee9ee55d6a3eae9b7f97a0cf828a77fefc14826dafcdcd2995ee3f"
   }
  }
 },
 "nbformat": 4,
 "nbformat_minor": 2
}
