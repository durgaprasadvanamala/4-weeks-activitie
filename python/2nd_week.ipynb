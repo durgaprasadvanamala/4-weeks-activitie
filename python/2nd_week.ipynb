{
 "cells": [
  {
   "cell_type": "code",
   "execution_count": 1,
   "metadata": {},
   "outputs": [
    {
     "name": "stdout",
     "output_type": "stream",
     "text": [
      "fdgxcv\n"
     ]
    }
   ],
   "source": [
    "print(\"fdgxcv\")"
   ]
  }
 ],
 "metadata": {
  "kernelspec": {
   "display_name": "Python 3.10.7 64-bit",
   "language": "python",
   "name": "python3"
  },
  "language_info": {
   "codemirror_mode": {
    "name": "ipython",
    "version": 3
   },
   "file_extension": ".py",
   "mimetype": "text/x-python",
   "name": "python",
   "nbconvert_exporter": "python",
   "pygments_lexer": "ipython3",
   "version": "3.10.7"
  },
  "orig_nbformat": 4,
  "vscode": {
   "interpreter": {
    "hash": "2fafaa0203ee9ee55d6a3eae9b7f97a0cf828a77fefc14826dafcdcd2995ee3f"
   }
  }
 },
 "nbformat": 4,
 "nbformat_minor": 2
}
